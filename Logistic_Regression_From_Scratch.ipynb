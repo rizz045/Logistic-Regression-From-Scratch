{
  "nbformat": 4,
  "nbformat_minor": 0,
  "metadata": {
    "colab": {
      "provenance": []
    },
    "kernelspec": {
      "name": "python3",
      "display_name": "Python 3"
    },
    "language_info": {
      "name": "python"
    }
  },
  "cells": [
    {
      "cell_type": "markdown",
      "source": [
        "**Objective:** A simple implementation of Logistic Regression from scratch using NumPy. This project demonstrates how binary classification works without using any machine learning libraries. Includes training, prediction, loss computation, gradient descent, and performance evaluation on sample datasets."
      ],
      "metadata": {
        "id": "_MB0KtNAQoct"
      }
    },
    {
      "cell_type": "code",
      "execution_count": 1,
      "metadata": {
        "id": "XFOol-vbQi69"
      },
      "outputs": [],
      "source": [
        "# importing important libraries\n",
        "import numpy as np\n",
        "import pandas as pd\n",
        "import matplotlib.pyplot as plt"
      ]
    },
    {
      "cell_type": "code",
      "source": [
        "class Logistic_Regression():\n",
        "\n",
        "    def __init__():\n",
        "\n",
        "\n",
        "    def fit():\n",
        "\n",
        "\n",
        "    def update_weights():\n",
        "\n",
        "\n",
        "    def predict():\n"
      ],
      "metadata": {
        "id": "h3So6dXSRUdB",
        "colab": {
          "base_uri": "https://localhost:8080/",
          "height": 106
        },
        "outputId": "7a017f21-5e53-4ad9-d013-3ed29925b982"
      },
      "execution_count": 2,
      "outputs": [
        {
          "output_type": "error",
          "ename": "IndentationError",
          "evalue": "expected an indented block after function definition on line 3 (<ipython-input-2-acc3375705a0>, line 6)",
          "traceback": [
            "\u001b[0;36m  File \u001b[0;32m\"<ipython-input-2-acc3375705a0>\"\u001b[0;36m, line \u001b[0;32m6\u001b[0m\n\u001b[0;31m    def fit():\u001b[0m\n\u001b[0m    ^\u001b[0m\n\u001b[0;31mIndentationError\u001b[0m\u001b[0;31m:\u001b[0m expected an indented block after function definition on line 3\n"
          ]
        }
      ]
    },
    {
      "cell_type": "code",
      "source": [],
      "metadata": {
        "id": "ed4guPFVX8Ns"
      },
      "execution_count": null,
      "outputs": []
    }
  ]
}