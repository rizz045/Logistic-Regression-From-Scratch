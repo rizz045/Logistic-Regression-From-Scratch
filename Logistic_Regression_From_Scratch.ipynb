{
  "nbformat": 4,
  "nbformat_minor": 0,
  "metadata": {
    "colab": {
      "provenance": []
    },
    "kernelspec": {
      "name": "python3",
      "display_name": "Python 3"
    },
    "language_info": {
      "name": "python"
    }
  },
  "cells": [
    {
      "cell_type": "markdown",
      "source": [
        "**Objective:** A simple implementation of Logistic Regression from scratch using NumPy. This project demonstrates how binary classification works without using any machine learning libraries. Includes training, prediction, loss computation, gradient descent, and performance evaluation on sample datasets."
      ],
      "metadata": {
        "id": "_MB0KtNAQoct"
      }
    },
    {
      "cell_type": "code",
      "execution_count": 2,
      "metadata": {
        "id": "XFOol-vbQi69"
      },
      "outputs": [],
      "source": [
        "# importing important libraries\n",
        "import numpy as np\n",
        "import pandas as pd\n",
        "import matplotlib.pyplot as plt"
      ]
    },
    {
      "cell_type": "code",
      "source": [],
      "metadata": {
        "id": "h3So6dXSRUdB"
      },
      "execution_count": null,
      "outputs": []
    }
  ]
}